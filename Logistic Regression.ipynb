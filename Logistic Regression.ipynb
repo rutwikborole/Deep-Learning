{
 "cells": [
  {
   "cell_type": "markdown",
   "id": "b8d64f4e-eefa-4cdc-9a70-66bef3732f96",
   "metadata": {},
   "source": [
    "# Deep Learning - Implemention of Logictic Regression from Scratch"
   ]
  },
  {
   "cell_type": "markdown",
   "id": "af52f2aa-8ab1-48ca-9e57-cc6743edab7b",
   "metadata": {},
   "source": [
    "### Part 1 – Implement Logistic Regression\n",
    "**I have implemented a simple logistic regression model for binary classification. The model is trained using gradient descent to optimize the weights and bias parameters. The sigmoid function is used as the activation function for the model, and the binary cross-entropy loss function is used as the cost function to evaluate the model's performance. The model is trained using the training data and the weights and bias are updated iteratively using gradient descent until the cost function reaches a threshold value or the maximum number of iterations is reached. The model is then used to predict the output for new data by calculating the dot product of the inputs and the weights plus the bias, passing the result through the sigmoid function and thresholding the result to obtain the final binary output.**\n",
    "\n",
    "Sources/References:\n",
    "1. DeepLearning-02-FundamentalsOfNNs-Pt1.pdf by Prof Micheal Madden - Slide 18, 21 and 24\n",
    "2. https://towardsdatascience.com/logistic-regression-from-scratch-69db4f587e17.\n",
    "3. https://scikit-learn.org/stable/modules/generated/sklearn.model_selection.train_test_split.html#sklearn.model_selection.train_test_split\n",
    "4. https://scikit-learn.org/stable/modules/generated/sklearn.metrics.classification_report.html#sklearn-metrics-classification-report\n",
    "5. https://scikit-learn.org/stable/modules/generated/sklearn.metrics.roc_auc_score.html\n",
    "6. https://stackoverflow.com/questions/3985619/how-to-calculate-a-logistic-sigmoid-function-in-python"
   ]
  },
  {
   "cell_type": "code",
   "execution_count": 27,
   "id": "4574c0ea-9ab7-4f1d-b94d-93368ed29798",
   "metadata": {},
   "outputs": [],
   "source": [
    "# Package imports\n",
    "import matplotlib\n",
    "import matplotlib.pyplot as plt\n",
    "import sklearn\n",
    "import sklearn.datasets\n",
    "import pandas as pd\n",
    "import numpy as np\n",
    "from sklearn.model_selection import train_test_split\n",
    "from sklearn.metrics import classification_report\n",
    "import random\n",
    "from sklearn.metrics import roc_auc_score, roc_curve\n",
    "\n",
    "# Display plots inline and change default figure size\n",
    "%matplotlib inline"
   ]
  },
  {
   "cell_type": "code",
   "execution_count": 28,
   "id": "0c160b73-24da-43b3-b27d-6739a67f636b",
   "metadata": {
    "tags": []
   },
   "outputs": [],
   "source": [
    "class logistic_regessor:\n",
    "    def __init__(self, l_rate=0.01, iters=10000, threshold = 0.01):\n",
    "        self.l_rate = l_rate \n",
    "        self.iters = iters \n",
    "        self.threshold = threshold\n",
    "\n",
    "    def sigmoid(self, z): #implentation from https://stackoverflow.com/questions/3985619/how-to-calculate-a-logistic-sigmoid-function-in-python\n",
    "         # sigmoid function\n",
    "        return 1 / (1 + np.exp(-z))\n",
    "    \n",
    "    def cost_function(self, y_pred, y):\n",
    "        # binary cross entropy loss\n",
    "        cost = -np.mean(y * np.log(y_pred) + (1 - y) * np.log(1 - y_pred))\n",
    "        return cost\n",
    "    \n",
    "    def fit(self, X, y):\n",
    "        self.w = np.random.randn(X.shape[1])\n",
    "        self.b = 0.001 \n",
    "\n",
    "        for i in range(self.iters):\n",
    "            for i in range(X.shape[0]):\n",
    "                x = X[i]\n",
    "                 #Here we predict the probability of the sample\n",
    "                y_pred = self.sigmoid(np.dot(x, self.w) + self.b)\n",
    "                #Here we calculate the error\n",
    "                error = y[i] - y_pred \n",
    "                #Here we calculate gradient of the weights\n",
    "                dw = x*error \n",
    "                #Here we calculate gradient of the bias\n",
    "                db = error\n",
    "                #updating weight and bias\n",
    "                self.w += self.l_rate * dw \n",
    "                self.b += self.l_rate * db \n",
    "                \n",
    "            #if i % 100 == 0:\n",
    "                #cost = self.cost_function(y_pred, y)\n",
    "                #print(f\"Iteration: {i} Cost: {cost}\")\n",
    "                \n",
    "\n",
    "    def predict(self, X):\n",
    "         # calculating the dot product of the inputs and the weights plus the bias\n",
    "        z = np.dot(X, self.w) + self.b\n",
    "        # passing the dot product through the sigmoid function\n",
    "        a = self.sigmoid(z) \n",
    "        \n",
    "        # threshold the probabilities to convert them into binary values\n",
    "        return np.where(a >= self.threshold, 1, 0)\n"
   ]
  },
  {
   "cell_type": "markdown",
   "id": "1eff033e-da90-4d4e-b5b2-7aaeed80d1d0",
   "metadata": {},
   "source": [
    "### Part 2 – Test on Easy Tasks\n"
   ]
  },
  {
   "cell_type": "markdown",
   "id": "a559fe66-320b-4e01-8f8a-32eb43a16f31",
   "metadata": {},
   "source": [
    "**2.1 - Here we read the two datasets Blob and Moons**\n",
    "\n",
    "Sources/References: LoadDataset.ipnyb by Professor Michael Madden "
   ]
  },
  {
   "cell_type": "code",
   "execution_count": 29,
   "id": "54e0844a-7b5b-4cab-b7b4-ffc8fb344b0e",
   "metadata": {},
   "outputs": [],
   "source": [
    "# Use pandas to read the CSV file as a dataframe\n",
    "df = pd.read_csv(\"moons500.csv\")\n",
    "df1 = pd.read_csv(\"blobs400.csv\")\n",
    "\n",
    "#Assigning Labels to variable y\n",
    "y = df['Class'].values\n",
    "y1 = df1['Class'].values\n",
    "\n",
    "#Droping Labels from the dataframe\n",
    "del df['Class'] \n",
    "del df1['Class']\n",
    "X = df.values   \n",
    "X1 = df1.values"
   ]
  },
  {
   "cell_type": "markdown",
   "id": "293839e7-d4ba-45f3-a16f-0bf412866fd5",
   "metadata": {},
   "source": [
    "**2.2 - Here we Split the dataset using the Sklearn traintestsplit function to the split the data into training(70%), validation(15%) and test(15%)**"
   ]
  },
  {
   "cell_type": "code",
   "execution_count": 30,
   "id": "9468bd0b-c1ca-4abd-a6e9-93c991876ac3",
   "metadata": {
    "tags": []
   },
   "outputs": [],
   "source": [
    "#Splitting the Moons data set\n",
    "X_train, X_rem, y_train, y_rem = train_test_split(X, y, test_size=0.3, random_state=10)\n",
    "X_val, X_test, y_val, y_test = train_test_split(X_rem, y_rem, test_size=0.5, random_state=10)\n",
    "\n",
    "#Splitting the Blobs data set\n",
    "X1_train, X1_rem, y1_train, y1_rem = train_test_split(X1, y1, test_size=0.3, random_state=10)\n",
    "X1_val, X1_test, y1_val, y1_test = train_test_split(X1_rem, y1_rem, test_size=0.5, random_state=10)"
   ]
  },
  {
   "cell_type": "markdown",
   "id": "65589f3e-1a59-410b-a4a4-2c532b48a462",
   "metadata": {},
   "source": [
    "**2.3 - Here we train the logistic regressor and make use of the validation set to make few alterations to the parameters and then finally predict on the test data**"
   ]
  },
  {
   "cell_type": "code",
   "execution_count": 31,
   "id": "eaf07e66-6d4a-4601-9116-bcb8832c3c7f",
   "metadata": {},
   "outputs": [
    {
     "name": "stdout",
     "output_type": "stream",
     "text": [
      "              precision    recall  f1-score   support\n",
      "\n",
      "           0       1.00      0.81      0.90        27\n",
      "           1       0.87      1.00      0.93        33\n",
      "\n",
      "    accuracy                           0.92        60\n",
      "   macro avg       0.93      0.91      0.91        60\n",
      "weighted avg       0.93      0.92      0.92        60\n",
      "\n"
     ]
    }
   ],
   "source": [
    "# Train the model on the Blobs training set\n",
    "model = logistic_regessor()\n",
    "model.fit(X1_train, y1_train)\n",
    "\n",
    "# Make predictions on the Blobs validation set\n",
    "#y1_val_pred = model.predict(X1_val)\n",
    "\n",
    "# Make predictions on the Blobs testing set\n",
    "y1_test_pred = model.predict(X1_test)\n",
    "\n",
    "#Printing the classification report on the Blobs validation set\n",
    "#print(classification_report(y1_val, y1_val_pred))\n",
    "\n",
    "#Printing the classification report on the Blobs test set\n",
    "print(classification_report(y1_test, y1_test_pred))"
   ]
  },
  {
   "cell_type": "markdown",
   "id": "9a03a112-8cef-40b8-8559-010c51fdbe52",
   "metadata": {},
   "source": [
    "**Observations on the blobs dataset:**\n",
    "\n",
    "In the above results we can observe that the model achieved a high precision (1.00) for class 0, which means that the model accurately predicted all the instances of class 0. For class 1, the model achieved a high recall (1.00), which means that the model accurately identified all instances of class 1.\n",
    "\n",
    "The overall accuracy of the model was 0.92, which is relatively good. However, it is important to note that the dataset is small (only 60 instances) and relatively easy to classify (as the blobs are well separated), so the model may not perform as well on more complex datasets."
   ]
  },
  {
   "cell_type": "code",
   "execution_count": 32,
   "id": "879c9021-56cb-4835-9e3c-99cc37c377b7",
   "metadata": {
    "tags": []
   },
   "outputs": [
    {
     "name": "stdout",
     "output_type": "stream",
     "text": [
      "              precision    recall  f1-score   support\n",
      "\n",
      "           0       1.00      0.22      0.36        37\n",
      "           1       0.57      1.00      0.72        38\n",
      "\n",
      "    accuracy                           0.61        75\n",
      "   macro avg       0.78      0.61      0.54        75\n",
      "weighted avg       0.78      0.61      0.54        75\n",
      "\n"
     ]
    }
   ],
   "source": [
    "# Train the model on the Moons training set\n",
    "model = logistic_regessor()\n",
    "model.fit(X_train, y_train)\n",
    "\n",
    "# Make predictions on the Moons validation set\n",
    "#y_val_pred = model.predict(X_val)\n",
    "\n",
    "# Make predictions on the Moons testing set\n",
    "y_test_pred = model.predict(X_test)\n",
    "\n",
    "#print(classification_report(y_val, y_val_pred))\n",
    "\n",
    "#Printing the classification report on the Moons test set\n",
    "print(classification_report(y_test, y_test_pred))"
   ]
  },
  {
   "cell_type": "markdown",
   "id": "1ed42547-0250-41e8-8645-ad0f8ec2cc62",
   "metadata": {},
   "source": [
    "**Observations on the Moons dataset:**\n",
    "\n",
    "The precision, recall, and F1-score for class 0 are all high for precision and low for recall. This means that the model correctly identified most of the instances that belonged to class 1 (high precision), but missed many instances that actually belonged to class 0 (low recall). This is likely due to the fact that the class 0 instances are harder to separate from noise and other class 1 instances.\n",
    "\n",
    "The precision, recall, and F1-score for class 1 are more balanced, with a precision of 0.57 and a recall of 1.0. This means that the model correctly identified most of the instances that belonged to class 1 and only misclassified a small number of instances that actually belonged to class 0.\n",
    "\n",
    "The overall accuracy of the model is 0.61, which is not very high. This means that the model correctly classified 63% of the instances in the test set. The macro average F1-score (the average F1-score across both classes) is 0.54, which is not very high. The weighted average F1-score is also 0.54.\n",
    "\n",
    "In summary, the results suggest that the logistic regression model is better at identifying instances that belong to class 1 (the moon-shaped clusters) than instances that belong to class 0 (the noise and overlapping regions). The model's overall performance is modest, and may be improved with a more sophisticated model or feature engineering.\n"
   ]
  },
  {
   "cell_type": "markdown",
   "id": "1fbc5dcf-64c4-4b74-96b0-a684fc7670ca",
   "metadata": {},
   "source": [
    "**Part 3 – Implement and Test a Shallow Neural Network**\n",
    "\n",
    "I have implemented a shallow neural network (based on the logistic regessor above). It has one hidden layer with defined number of neurons and uses a sigmoid activation function for both the hidden and output layers. The network is trained using stochastic gradient descent with a binary cross-entropy loss function, and the weights and biases are updated using backpropagation. The class has methods for fitting the model to the training data and predicting labels for new data. <br>\n",
    "*The class has three main methods:*<br>\n",
    "* *sigmoid(z):-* The sigmoid activation function that maps any input value to a probability value between 0 and 1<br>\n",
    "* *fit(X, y):-* The method that trains the neural network by performing stochastic gradient descent on the dataset. The method first shuffles the input data and targets, and then iterates through the data for each training epoch. For each training example, the method computes the forward pass by applying the input to the hidden layer and then the output layer, computes the error between the predicted output and the true output, and then computes the gradients and updates the weights and biases using backpropagation. After each epoch, the cost is computed and printed.<br>\n",
    "* *predict(X):-* The method that uses the trained weights and biases to perform the forward pass and make predictions on new data. The method applies the input to the hidden layer and then the output layer, and then applies a threshold to the predicted probabilities to convert them into binary values.\n",
    "The shallow neural network can be improved by adding more layers, changing the activation function or using different loss functions depending on the type of problem being solved.\n",
    "\n",
    "Sources/References:<br>\n",
    "1. DeepLearning-03-FundamentalsOfNNs-Pt2.pdf by Professor Michael Madden - Slides - 10, 13, 15, 16 and 19\n",
    "2. http://ufldl.stanford.edu/tutorial/supervised/MultiLayerNeuralNetworks/\n",
    "3. http://neuralnetworksanddeeplearning.com/chap2.html\n",
    "4. http://neuralnetworksanddeeplearning.com/chap3.html\n",
    "5. https://www.analyticsvidhya.com/blog/2020/07/neural-networks-from-scratch-in-python-and-r/"
   ]
  },
  {
   "cell_type": "code",
   "execution_count": 33,
   "id": "63d6803d-eeb5-42ab-b170-01d5f3db9d57",
   "metadata": {},
   "outputs": [],
   "source": [
    "class Shallow_NN:\n",
    "    def __init__(self,X,y, n_hidden=4, l_rate=0.1, iters=3000, threshold=0.01):\n",
    "        self.n_input = X.shape[1]\n",
    "        self.n_hidden = n_hidden\n",
    "        self.n_output = 1\n",
    "        self.l_rate = l_rate\n",
    "        self.iters = iters\n",
    "        self.threshold = threshold\n",
    "        \n",
    "        # initializing weights/biases for the hidden layer and output layer\n",
    "        self.hidden_weights = np.random.randn(self.n_input, self.n_hidden)\n",
    "        self.output_weights = np.random.randn(self.n_hidden, self.n_output)\n",
    "        \n",
    "        self.hidden_bias = np.zeros((1, self.n_hidden))\n",
    "        self.output_bias = np.zeros((1, self.n_output))\n",
    "        \n",
    "    def sigmoid(self, z):\n",
    "        # sigmoid function\n",
    "        return 1 / (1 + np.exp(-z))\n",
    "    \n",
    "    def cost_function(self, y_pred, y):\n",
    "        # binary cross entropy loss\n",
    "        cost = -np.mean(y * np.log(y_pred) + (1 - y) * np.log(1 - y_pred))\n",
    "        return cost\n",
    "    \n",
    "    def fit(self, X, y):\n",
    "        for i in range(self.iters):\n",
    "        \n",
    "            idx = np.random.permutation(X.shape[0])\n",
    "            X = X[idx]\n",
    "            y = y[idx]\n",
    "            \n",
    "            for j in range(X.shape[0]):\n",
    "                x = X[j]\n",
    "                \n",
    "                # forward pass\n",
    "                hidden_output = self.sigmoid(np.dot(x, self.hidden_weights) + self.hidden_bias)\n",
    "                y_pred = self.sigmoid(np.dot(hidden_output, self.output_weights) + self.output_bias)\n",
    "                \n",
    "                # calculating the error\n",
    "                output_error = y[j] -y_pred\n",
    "                hidden_error = np.dot(output_error, self.output_weights.T) * hidden_output * (1 - hidden_output)\n",
    "                \n",
    "                # backprop\n",
    "                output_delta = output_error * y_pred * (1 - y_pred)\n",
    "                hidden_delta = hidden_error * hidden_output * (1 - hidden_output)\n",
    "                \n",
    "                # updating weights and biases\n",
    "                self.output_weights += self.l_rate * np.outer(hidden_output, output_delta)\n",
    "                self.output_bias += self.l_rate * output_delta\n",
    "                \n",
    "                self.hidden_weights += self.l_rate * np.outer(x, hidden_delta)\n",
    "                self.hidden_bias += self.l_rate * hidden_delta\n",
    "                \n",
    "            #if i % 100 == 0:\n",
    "                #cost = self.cost_function(y_pred, y)\n",
    "                #print(f\"Iteration: {i} Cost: {cost}\")\n",
    "    \n",
    "    def predict(self, X):\n",
    "        # forward pass\n",
    "        hidden_output = self.sigmoid(np.dot(X, self.hidden_weights) + self.hidden_bias)\n",
    "        y_pred = self.sigmoid(np.dot(hidden_output, self.output_weights) + self.output_bias)\n",
    "        \n",
    "        # thresholding the probabilities to convert them into binary values\n",
    "        return np.where(y_pred >= self.threshold, 1, 0)\n"
   ]
  },
  {
   "cell_type": "code",
   "execution_count": 34,
   "id": "6cf2ba60-6523-41a0-8ca1-3b1f3b503210",
   "metadata": {},
   "outputs": [],
   "source": [
    "#Splitting the Moons data set\n",
    "X_train, X_rem, y_train, y_rem = train_test_split(X, y, test_size=0.3, random_state=10)\n",
    "X_val, X_test, y_val, y_test = train_test_split(X_rem, y_rem, test_size=0.5, random_state=10)\n",
    "\n",
    "#Splitting the Blobs data set\n",
    "X1_train, X1_rem, y1_train, y1_rem = train_test_split(X1, y1, test_size=0.3, random_state=10)\n",
    "X1_val, X1_test, y1_val, y1_test = train_test_split(X1_rem, y1_rem, test_size=0.5, random_state=10)"
   ]
  },
  {
   "cell_type": "code",
   "execution_count": 35,
   "id": "0736a9eb-eb1f-42b0-bb3d-04870b5b96c7",
   "metadata": {},
   "outputs": [
    {
     "name": "stdout",
     "output_type": "stream",
     "text": [
      "              precision    recall  f1-score   support\n",
      "\n",
      "           0       1.00      0.78      0.88        27\n",
      "           1       0.85      1.00      0.92        33\n",
      "\n",
      "    accuracy                           0.90        60\n",
      "   macro avg       0.92      0.89      0.90        60\n",
      "weighted avg       0.92      0.90      0.90        60\n",
      "\n",
      "AUC: 0.8888888888888888\n"
     ]
    },
    {
     "data": {
      "image/png": "[encoded data removed]",
      "text/plain": [
       "<Figure size 640x480 with 1 Axes>"
      ]
     },
     "metadata": {},
     "output_type": "display_data"
    }
   ],
   "source": [
    "model = Shallow_NN(X1_train, y1_train)\n",
    "\n",
    "model.fit(X1_train, y1_train)\n",
    "\n",
    "# predict on blobs test set\n",
    "y_pred_nn = model.predict(X1_test)\n",
    "\n",
    "print(classification_report(y1_test, y_pred_nn))\n",
    "\n",
    "# calculate the AUC score\n",
    "auc = roc_auc_score(y1_test, y_pred_nn)\n",
    "print(\"AUC:\", auc)\n",
    "\n",
    "# calculating the false positive rate and true positive rate for different thresholds\n",
    "fpr, tpr, thresholds = roc_curve(y1_test, y_pred_nn)\n",
    "\n",
    "# plot the ROC curve\n",
    "plt.plot(fpr, tpr, label='ROC curve (area = %0.2f)' % auc)\n",
    "plt.plot([0, 1], [0, 1], 'k--')  # random predictions curve\n",
    "plt.xlim([0.0, 1.0])\n",
    "plt.ylim([0.0, 1.2])\n",
    "plt.xlabel('False Positive Rate or (1 - Specificity)')\n",
    "plt.ylabel('True Positive Rate or (Sensitivity)')\n",
    "plt.title('Receiver Operating Characteristic')\n",
    "plt.legend(loc=\"lower right\")\n",
    "plt.show()"
   ]
  },
  {
   "cell_type": "markdown",
   "id": "17d38450-ad01-4018-9544-194411883614",
   "metadata": {},
   "source": [
    "**Observations on the Blobs data set with the feed forward neural network:**\n",
    "\n",
    "The FFNN model achieved an accuracy of 0.90 on the test set. This means that 90% of the test instances were classified correctly.\n",
    "The precision for class 0 is 1.00, which means that all instances predicted to belong to class 0 are actually from class 0. The precision for class 1 is 0.85, which means that 85% of the instances predicted to belong to class 1 are actually from class 1.\n",
    "The recall for class 0 is 0.78, which means that 89% of the instances from class 0 were correctly identified by the model. The recall for class 1 is 1.00, which means that all instances from class 1 were correctly identified by the model.\n",
    "The F1-score is a weighted harmonic mean of the precision and recall. It is a measure of the overall performance of the model. The weighted average F1-score for the FFNN model is 0.90, which is a good score.\n",
    "\n",
    "The area under the ROC curve (AUC) is 0.888, indicating the overall performance of the binary classification model. The AUC value ranges from 0 to 1, where 1 represents a perfect classifier, and 0.5 indicates a random classifier. Therefore, the AUC value of 0.888 suggests that the model is performing well in distinguishing between the two classes in the given dataset."
   ]
  },
  {
   "cell_type": "code",
   "execution_count": 36,
   "id": "bb0f27db-6b34-4efd-bde1-7e72f956854f",
   "metadata": {},
   "outputs": [
    {
     "name": "stdout",
     "output_type": "stream",
     "text": [
      "              precision    recall  f1-score   support\n",
      "\n",
      "           0       1.00      0.27      0.43        37\n",
      "           1       0.58      1.00      0.74        38\n",
      "\n",
      "    accuracy                           0.64        75\n",
      "   macro avg       0.79      0.64      0.58        75\n",
      "weighted avg       0.79      0.64      0.58        75\n",
      "\n",
      "AUC: 0.6351351351351351\n"
     ]
    },
    {
     "data": {
      "image/png": "[encoded data removed]",
      "text/plain": [
       "<Figure size 640x480 with 1 Axes>"
      ]
     },
     "metadata": {},
     "output_type": "display_data"
    }
   ],
   "source": [
    "model = Shallow_NN(X_train, y_train)\n",
    "\n",
    "model.fit(X_train, y_train)\n",
    "\n",
    "# predict on moons test set\n",
    "y_pred_nn_1 = model.predict(X_test)\n",
    "\n",
    "print(classification_report(y_test, y_pred_nn_1))\n",
    "\n",
    "# calculate the AUC score\n",
    "auc = roc_auc_score(y_test, y_pred_nn_1)\n",
    "print(\"AUC:\", auc)\n",
    "\n",
    "# calculating the false positive rate and true positive rate for different thresholds\n",
    "fpr, tpr, thresholds = roc_curve(y_test, y_pred_nn_1)\n",
    "\n",
    "# plot the ROC curve\n",
    "plt.plot(fpr, tpr, label='ROC curve (area = %0.2f)' % auc)\n",
    "plt.plot([0, 1], [0, 1], 'k--')  # random predictions curve\n",
    "plt.xlim([0.0, 1.0])\n",
    "plt.ylim([0.0, 1.2])\n",
    "plt.xlabel('False Positive Rate or (1 - Specificity)')\n",
    "plt.ylabel('True Positive Rate or (Sensitivity)')\n",
    "plt.title('Receiver Operating Characteristic')\n",
    "plt.legend(loc=\"lower right\")\n",
    "plt.show()"
   ]
  },
  {
   "cell_type": "markdown",
   "id": "a01c5c27-b4ad-4940-a1b3-689085cef80d",
   "metadata": {},
   "source": [
    "**Observations on the Moons dataset with the feed forward neural network:**\n",
    "\n",
    "The classification report summarizes the model's performance in predicting the two classes in the moons dataset. The first class (0) had an accuracy of 1.00 in identifying negative cases, but a poor recall of 0.27, indicating that only a tiny proportion of the actual negative examples were correctly classified. The second class (1) had a greater recall of 1.00, showing that all true positive examples were correctly classified, but a lower precision of 0.58, indicating that a significant minority of positive examples were actually negative. The overall accuracy of the model was 0.64, with a macro average F1 score of 0.58, showing that the model's performance in differentiating between the two classes is modest.\n",
    "\n",
    "The AUC of 0.635 indicates that the model only has modest discriminatory power, that is, capacity to differentiate between positive and negative instances. As a result, the AUC score indicates that the model performs relatively well in the classification task as compared to our previous logistic regressor without any hidden layers"
   ]
  },
  {
   "cell_type": "markdown",
   "id": "bd243a82-2844-4a87-8162-842d1e0df570",
   "metadata": {},
   "source": [
    "### Part 4 - Challenging Task\n",
    "\n",
    "Sources/References:<br>\n",
    "1. \"Load-Fashion-Mnist.ipnyb\" by Professor Micheal Madden\n",
    "2.  https://github.com/zalandoresearch/fashion-mnist"
   ]
  },
  {
   "cell_type": "code",
   "execution_count": 37,
   "id": "c6500d57-efb8-4e11-a4d7-aa4facb3bb1d",
   "metadata": {},
   "outputs": [
    {
     "name": "stdout",
     "output_type": "stream",
     "text": [
      "Shape of images is (60000, 784), labels is (60000,)\n",
      "Shape of images is (10000, 784), labels is (10000,)\n"
     ]
    }
   ],
   "source": [
    "# This function taken directly from the Fashion-MNIST github site: \n",
    "# https://github.com/zalandoresearch/fashion-mnist/blob/master/utils/mnist_reader.py\n",
    "def load_mnist_train(path, kind='train'): \n",
    "    import os\n",
    "    import gzip\n",
    "    import numpy as np\n",
    "\n",
    "    \"\"\"Load MNIST data from `path`\"\"\"\n",
    "    labels_path = os.path.join(path,\n",
    "                               '%s-labels-idx1-ubyte.gz'\n",
    "                               % kind)\n",
    "    images_path = os.path.join(path,\n",
    "                               '%s-images-idx3-ubyte.gz'\n",
    "                               % kind)\n",
    "\n",
    "    with gzip.open(labels_path, 'rb') as lbpath:\n",
    "        labels = np.frombuffer(lbpath.read(), dtype=np.uint8,\n",
    "                               offset=8)\n",
    "\n",
    "    with gzip.open(images_path, 'rb') as imgpath:\n",
    "        images = np.frombuffer(imgpath.read(), dtype=np.uint8,\n",
    "                               offset=16).reshape(len(labels), 784)\n",
    "\n",
    "    return images, labels\n",
    "\n",
    "(train_imgs, train_labels) = load_mnist_train('./fashion-mnist-data', 'train')\n",
    "\n",
    "print(f\"Shape of images is {train_imgs.shape}, labels is {train_labels.shape}\")\n",
    "\n",
    "def load_mnist_test(path, kind='t10k'): \n",
    "    import os\n",
    "    import gzip\n",
    "    import numpy as np\n",
    "\n",
    "    \"\"\"Load MNIST data from `path`\"\"\"\n",
    "    labels_path = os.path.join(path,\n",
    "                               '%s-labels-idx1-ubyte.gz'\n",
    "                               % kind)\n",
    "    images_path = os.path.join(path,\n",
    "                               '%s-images-idx3-ubyte.gz'\n",
    "                               % kind)\n",
    "\n",
    "    with gzip.open(labels_path, 'rb') as lbpath:\n",
    "        labels = np.frombuffer(lbpath.read(), dtype=np.uint8,\n",
    "                               offset=8)\n",
    "\n",
    "    with gzip.open(images_path, 'rb') as imgpath:\n",
    "        images = np.frombuffer(imgpath.read(), dtype=np.uint8,\n",
    "                               offset=16).reshape(len(labels), 784)\n",
    "\n",
    "    return images, labels\n",
    "\n",
    "(test_imgs, test_labels) = load_mnist_test('./fashion-mnist-data', 't10k')\n",
    "\n",
    "#label_names = ['T-shirt/top', 'Trouser' , 'Pullover', 'Dress', 'Coat', 'Sandal', 'Shirt', 'Sneaker', 'Bag', 'Ankle boot']\n",
    "\n",
    "print(f\"Shape of images is {test_imgs.shape}, labels is {test_labels.shape}\")"
   ]
  },
  {
   "cell_type": "code",
   "execution_count": 38,
   "id": "ab0239e5-1ac0-4f4b-a6a6-f8104af94208",
   "metadata": {},
   "outputs": [],
   "source": [
    "# Defining my two classes\n",
    "class1 = 0  # T-shirt/top\n",
    "class2 = 2  # pullover\n",
    "\n",
    "# Filtering out the images and labels corresponding to the two classes\n",
    "train_imgs_class1 = train_imgs[train_labels == class1]\n",
    "train_imgs_class2 = train_imgs[train_labels == class2]\n",
    "train_labels_class1 = np.zeros(train_imgs_class1.shape[0])\n",
    "train_labels_class2 = np.ones(train_imgs_class2.shape[0])\n",
    "\n",
    "test_imgs_class1 = test_imgs[test_labels == class1]\n",
    "test_imgs_class2 = test_imgs[test_labels == class2]\n",
    "test_labels_class1 = np.zeros(test_imgs_class1.shape[0])\n",
    "test_labels_class2 = np.ones(test_imgs_class2.shape[0])\n",
    "\n",
    "# Concatenate the filtered data to create the new datasets\n",
    "train_imgs_new = np.concatenate((train_imgs_class1, train_imgs_class2), axis=0)\n",
    "train_labels_new = np.concatenate((train_labels_class1, train_labels_class2), axis=0)\n",
    "\n",
    "test_imgs_new = np.concatenate((test_imgs_class1, test_imgs_class2), axis=0)\n",
    "test_labels_new = np.concatenate((test_labels_class1, test_labels_class2), axis=0)\n",
    "\n",
    "# Normalizing the pixel values between 0 and 1\n",
    "train_imgs_new = train_imgs_new / 255.0\n",
    "test_imgs_new = test_imgs_new / 255.0"
   ]
  },
  {
   "cell_type": "code",
   "execution_count": 43,
   "id": "f73fa2e0-e8f1-4752-a92d-769c8c25853b",
   "metadata": {},
   "outputs": [],
   "source": [
    "class Shallow_NN_Mnist:\n",
    "    def __init__(self,X,y, n_hidden=10, l_rate=0.1, iters=1000, threshold=0.01):\n",
    "        self.n_input = X.shape[1]\n",
    "        self.n_hidden = n_hidden\n",
    "        self.n_output = 1\n",
    "        self.l_rate = l_rate\n",
    "        self.iters = iters\n",
    "        self.threshold = threshold\n",
    "        \n",
    "        # initializing weights/biases for the hidden layer and output layer\n",
    "        self.hidden_weights = np.random.randn(self.n_input, self.n_hidden)\n",
    "        self.output_weights = np.random.randn(self.n_hidden, self.n_output)\n",
    "        \n",
    "        self.hidden_bias = np.zeros((1, self.n_hidden))\n",
    "        self.output_bias = np.zeros((1, self.n_output))\n",
    "        \n",
    "    def sigmoid(self, z):\n",
    "        # sigmoid function\n",
    "        return 1 / (1 + np.exp(-z))\n",
    "    \n",
    "    def cost_function(self, y_pred, y):\n",
    "        # binary cross entropy loss\n",
    "        cost = -np.mean(y * np.log(y_pred) + (1 - y) * np.log(1 - y_pred))\n",
    "        return cost\n",
    "    \n",
    "    def fit(self, X, y):\n",
    "        for i in range(self.iters):\n",
    "            \n",
    "            idx = np.random.permutation(X.shape[0])\n",
    "            X = X[idx]\n",
    "            y = y[idx]\n",
    "            \n",
    "            for j in range(X.shape[0]):\n",
    "                x = X[j]\n",
    "                \n",
    "                # forward pass\n",
    "                hidden_output = self.sigmoid(np.dot(x, self.hidden_weights) + self.hidden_bias)\n",
    "                y_pred = self.sigmoid(np.dot(hidden_output, self.output_weights) + self.output_bias)\n",
    "                \n",
    "                # calculating the error\n",
    "                output_error = y[j] - y_pred\n",
    "                hidden_error = np.dot(output_error, self.output_weights.T) * hidden_output * (1 - hidden_output)\n",
    "                \n",
    "                # backprop\n",
    "                output_delta = output_error * y_pred * (1 - y_pred)\n",
    "                hidden_delta = hidden_error * hidden_output * (1 - hidden_output)\n",
    "                \n",
    "                # updating weights and biases\n",
    "                self.output_weights += self.l_rate * np.outer(hidden_output, output_delta)\n",
    "                self.output_bias += self.l_rate * output_delta\n",
    "                \n",
    "                self.hidden_weights += self.l_rate * np.outer(x, hidden_delta)\n",
    "                self.hidden_bias += self.l_rate * hidden_delta\n",
    "                \n",
    "            #if i % 100 == 0:\n",
    "                #cost = self.cost_function(y_pred, y)\n",
    "                #print(f\"Iteration: {i} Cost: {cost}\")\n",
    "    \n",
    "    def predict(self, X):\n",
    "        # forward pass\n",
    "        hidden_output = self.sigmoid(np.dot(X, self.hidden_weights) + self.hidden_bias)\n",
    "        y_pred = self.sigmoid(np.dot(hidden_output, self.output_weights) + self.output_bias)\n",
    "        \n",
    "        # thresholding the probabilities to convert them into binary values\n",
    "        return np.where(y_pred >= self.threshold, 1, 0)"
   ]
  },
  {
   "cell_type": "code",
   "execution_count": 44,
   "id": "0e0e29d2-563a-4c7e-95f3-9a7735351064",
   "metadata": {},
   "outputs": [
    {
     "name": "stdout",
     "output_type": "stream",
     "text": [
      "              precision    recall  f1-score   support\n",
      "\n",
      "         0.0       0.99      0.89      0.93      1000\n",
      "         1.0       0.90      0.99      0.94      1000\n",
      "\n",
      "    accuracy                           0.94      2000\n",
      "   macro avg       0.94      0.94      0.94      2000\n",
      "weighted avg       0.94      0.94      0.94      2000\n",
      "\n"
     ]
    }
   ],
   "source": [
    "model = Shallow_NN_Mnist(train_imgs_new, train_labels_new)\n",
    "\n",
    "model.fit(train_imgs_new, train_labels_new)\n",
    "\n",
    "# predicting on fashionmnist test data\n",
    "pred = model.predict(test_imgs_new)\n",
    "\n",
    "print(classification_report(test_labels_new, pred))\n"
   ]
  },
  {
   "cell_type": "markdown",
   "id": "44005b72-7af0-4ae9-bb03-7d53ca45bef6",
   "metadata": {},
   "source": [
    "**Observations on the Fashion-Mnist Data set for T-shirt/top and Pullover**\n",
    "\n",
    "The classification report shows that the model has an overall accuracy of 0.94 on the test set. The precision and recall values for both classes are high, which indicates that the model is performing well for both classes. However, the precision value for class 0 is slightly higher than the precision value for class 1, and the recall value for class 1 is slightly higher than the recall value for class 0."
   ]
  },
  {
   "cell_type": "markdown",
   "id": "a5e67369-193b-458b-ae47-86289de13cd4",
   "metadata": {},
   "source": [
    "### Part 5 – Deep Learning Enhancements:\n",
    "In the enhanced_shallow_NN class, I added the backpropagation algorithm with momentum to improve the training speed and to prevent the model from getting stuck in local minima. In this algorithm, we introduce a new parameter called the momentum, which determines how much of the previous weight update should be included in the current update. The idea is to give the model a \"memory\" of previous weight updates and to keep the updates moving in the same direction as long as the loss function continues to decrease. This can be particularly useful in scenarios where the cost function has many local minima, and we want to find the global minimum.\n",
    "To implement this algorithm, I added a new hyperparameter to the class, the momentum coefficient. During training, we keep track of the previous weight updates and use them to calculate the current update. Specifically, we introduce two new variables, the velocity of the hidden layer weights and the velocity of the output layer weights. We update these velocities based on the gradients of the loss function with respect to the weights and the momentum coefficient. Then, we update the weights based on the velocities and the learning rate.\n",
    "\n",
    "Sources/References:<br>\n",
    "1. Week 5 - DeepLearning-05-DeepNNs-Pt2.pdf - By Professor Micheal Madden, slides - 4, 5, 6 & 7.\n",
    "2. https://www.deeplearningbook.org/contents/optimization.html - Chapter 8 - Section 8.3.2\n",
    "3. https://towardsdatascience.com/10-gradient-descent-optimisation-algorithms-86989510b5e9\n",
    "4. https://towardsdatascience.com/stochastic-gradient-descent-momentum-explanation-8548a1cd264e"
   ]
  },
  {
   "cell_type": "code",
   "execution_count": 45,
   "id": "70588ad9-8aa7-4e95-a0b2-b1f786d9f4d0",
   "metadata": {},
   "outputs": [],
   "source": [
    "class Shallow_NN_Mnist:\n",
    "    def __init__(self,X,y, n_hidden=10, l_rate=0.01, iters=1000, threshold=0.01, momentum=0.9):\n",
    "        self.n_input = X.shape[1]\n",
    "        self.n_hidden = n_hidden\n",
    "        self.n_output = 1\n",
    "        self.l_rate = l_rate\n",
    "        self.iters = iters\n",
    "        self.threshold = threshold\n",
    "        self.momentum = momentum\n",
    "        \n",
    "        # initializing weights/biases for the hidden layer and output layer\n",
    "        self.hidden_weights = np.random.randn(self.n_input, self.n_hidden)\n",
    "        self.output_weights = np.random.randn(self.n_hidden, self.n_output)\n",
    "\n",
    "        self.hidden_bias = np.zeros((1, self.n_hidden))\n",
    "        self.output_bias = np.zeros((1, self.n_output))\n",
    "        \n",
    "        # initializing velocity for the hidden layer and output layer\n",
    "        self.hidden_v = np.zeros_like(self.hidden_weights)\n",
    "        self.output_v = np.zeros_like(self.output_weights)\n",
    "        \n",
    "    def sigmoid(self, z):\n",
    "        # sigmoid function\n",
    "        return 1 / (1 + np.exp(-z))\n",
    "    \n",
    "    def cost_function(self, y_pred, y):\n",
    "        # binary cross entropy loss\n",
    "        cost = -np.mean(y * np.log(y_pred) + (1 - y) * np.log(1 - y_pred))\n",
    "        return cost\n",
    "    \n",
    "    def fit(self, X, y):\n",
    "        for i in range(self.iters):\n",
    "        \n",
    "            idx = np.random.permutation(X.shape[0])\n",
    "            X = X[idx]\n",
    "            y = y[idx]\n",
    "            \n",
    "            for j in range(X.shape[0]):\n",
    "                x = X[j]\n",
    "                \n",
    "                # forward pass\n",
    "                hidden_output = self.sigmoid(np.dot(x, self.hidden_weights) + self.hidden_bias)\n",
    "                y_pred = self.sigmoid(np.dot(hidden_output, self.output_weights) + self.output_bias)\n",
    "                \n",
    "                # calculating the error\n",
    "                output_error = y[j] - y_pred\n",
    "                hidden_error = np.dot(output_error, self.output_weights.T) * hidden_output * (1 - hidden_output)\n",
    "                \n",
    "                # backprop with momentum\n",
    "                output_delta = output_error * y_pred * (1 - y_pred)\n",
    "                hidden_delta = hidden_error * hidden_output * (1 - hidden_output)\n",
    "                \n",
    "                self.output_v = self.momentum * self.output_v + self.l_rate * np.outer(hidden_output, output_delta)\n",
    "                self.output_weights += self.output_v\n",
    "                \n",
    "                self.hidden_v = self.momentum * self.hidden_v + self.l_rate * np.outer(x, hidden_delta)\n",
    "                self.hidden_weights += self.hidden_v\n",
    "                \n",
    "                self.output_bias += self.l_rate * output_delta\n",
    "                self.hidden_bias += self.l_rate * hidden_delta\n",
    "                \n",
    "            #if i % 100 == 0:\n",
    "                #cost = self.cost_function(y_pred, y)\n",
    "                #print(f\"Iteration: {i} Cost: {cost}\")\n",
    "    \n",
    "    def predict(self, X):\n",
    "        # forward pass\n",
    "        hidden_output = self.sigmoid(np.dot(X, self.hidden_weights) + self.hidden_bias)\n",
    "        y_pred = self.sigmoid(np.dot(hidden_output, self.output_weights) + self.output_bias)\n",
    "        \n",
    "        # thresholding the probabilities to convert them into binary values\n",
    "        return np.where(y_pred >= self.threshold, 1, 0)\n"
   ]
  },
  {
   "cell_type": "code",
   "execution_count": 46,
   "id": "59f4c5b0-8606-45a2-994c-a17512e41796",
   "metadata": {},
   "outputs": [
    {
     "name": "stdout",
     "output_type": "stream",
     "text": [
      "              precision    recall  f1-score   support\n",
      "\n",
      "         0.0       0.99      0.90      0.94      1000\n",
      "         1.0       0.91      0.99      0.95      1000\n",
      "\n",
      "    accuracy                           0.95      2000\n",
      "   macro avg       0.95      0.95      0.95      2000\n",
      "weighted avg       0.95      0.95      0.95      2000\n",
      "\n"
     ]
    }
   ],
   "source": [
    "model = Shallow_NN_Mnist(train_imgs_new, train_labels_new)\n",
    "\n",
    "model.fit(train_imgs_new, train_labels_new)\n",
    "\n",
    "# predicting on fashionmnist test data\n",
    "pred = model.predict(test_imgs_new)\n",
    "\n",
    "print(classification_report(test_labels_new, pred))"
   ]
  },
  {
   "cell_type": "markdown",
   "id": "d8c1b5f2-ddd3-412e-a76c-da935a59910a",
   "metadata": {},
   "source": [
    "**Observations on the Fashion-mnist dataset with Backprop with momemtum**\n",
    "\n",
    "The enhanced shallow NN with backprop with momentum model had an accuracy of 0.95, a precision of 0.99 for predicting the negative class (0), and a precision of 0.91 for predicting the positive class (1). Negative class recall is 0.90 while positive class recall is 0.99. Negative and positive classes had f1-scores of 0.94 and 0.95, respectively. The weighted average f1-score is 0.95, indicating good model performance.\n",
    "\n",
    "Both classes have similar precision, recall, and f1-score metrics, although precision differs slightly. The model appears to accurately anticipate both classes. The model correctly classifies 95% of samples with an accuracy of 0.95. These metrics show that enhanced shallow NN with backprop with momentum performs well on the dataset and also just slighlty better than the previous model."
   ]
  }
 ],
 "metadata": {
  "kernelspec": {
   "display_name": "Python 3 (ipykernel)",
   "language": "python",
   "name": "python3"
  },
  "language_info": {
   "codemirror_mode": {
    "name": "ipython",
    "version": 3
   },
   "file_extension": ".py",
   "mimetype": "text/x-python",
   "name": "python",
   "nbconvert_exporter": "python",
   "pygments_lexer": "ipython3",
   "version": "3.10.9"
  }
 },
 "nbformat": 4,
 "nbformat_minor": 5
}
